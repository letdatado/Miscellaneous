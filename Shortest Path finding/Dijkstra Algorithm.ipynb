{
 "cells": [
  {
   "cell_type": "code",
   "execution_count": 2,
   "id": "1871b7c8",
   "metadata": {},
   "outputs": [],
   "source": [
    "import numpy as np\n",
    "import matplotlib.pyplot as plt \n",
    "%matplotlib inline"
   ]
  },
  {
   "cell_type": "code",
   "execution_count": 7,
   "id": "a88ed7b5",
   "metadata": {},
   "outputs": [
    {
     "name": "stderr",
     "output_type": "stream",
     "text": [
      "C:\\Users\\rizve\\AppData\\Local\\Temp/ipykernel_5792/2978911075.py:79: MatplotlibDeprecationWarning: You are modifying the state of a globally registered colormap. This has been deprecated since 3.3 and in 3.6, you will not be able to modify a registered colormap in-place. To remove this warning, you can make a copy of the colormap first. cmap = mpl.cm.get_cmap(\"Blues\").copy()\n",
      "  current_cmap.set_bad(color = 'red')\n"
     ]
    },
    {
     "name": "stdout",
     "output_type": "stream",
     "text": [
      "Backtrack masked with np.nan: [[nan nan nan nan nan  8. 10. 16. 12.  9.]\n",
      " [13. 18. 18. 19. nan nan  6. 10. 10. 10.]\n",
      " [ 3.  7.  3.  9. 14. nan nan  7.  4.  5.]\n",
      " [ 3.  1. 10. 17.  1. 11. nan 11.  1.  6.]\n",
      " [ 2.  3.  8.  5. 10. 10. nan 10.  9.  8.]\n",
      " [19. 10.  5. 12.  9.  1. nan nan nan  9.]\n",
      " [16.  8. 18. 10. 10. 11. 14. 17. nan 19.]\n",
      " [18. 19.  2.  5. 10. 10. 17. 17. nan nan]\n",
      " [18.  1.  8.  2.  8. 19. 18.  5.  2. nan]\n",
      " [10. 19. 18.  9. 15.  6.  3. 11. 12. nan]]\n",
      "Path: [[9, 9], [8, 9], [7, 9], [7, 8], [6, 8], [5, 8], [5, 7], [5, 6], [4, 6], [3, 6], [2, 6], [2, 5], [1, 5], [1, 4], [0, 4], [0, 3], [0, 2], [0, 1], [0, 0]] \n",
      "Shortest minutes possible with Dijkstra: 107 minutes\n"
     ]
    },
    {
     "data": {
      "image/png": "[encoded data removed]",
      "text/plain": [
       "<Figure size 576x576 with 1 Axes>"
      ]
     },
     "metadata": {
      "needs_background": "light"
     },
     "output_type": "display_data"
    }
   ],
   "source": [
    "\n",
    "num_cols = 10\n",
    "num_rows = 10\n",
    "\n",
    "grid = np.random.randint(1, 20, size=(num_cols, num_rows))\n",
    "\n",
    "def improved_search(grid):\n",
    "\n",
    "    #Initialize arrays to accumulate distances\n",
    "    acm_dist = np.ones((num_cols,num_rows), dtype=int) * np.inf\n",
    "    acm_dist[0,0] = grid[0,0]\n",
    "    \n",
    "    # To store our backtracks\n",
    "    bktrack_dist = np.ones((num_cols, num_rows), dtype=int) * np.nan\n",
    "\n",
    "    # keeps trach of the cells that have been visited    \n",
    "    visited = np.zeros((num_cols, num_rows), dtype=bool)\n",
    "    \n",
    "    # to end the process\n",
    "    end = False\n",
    "    \n",
    "    # initiation of index\n",
    "    x = np.int32(0)\n",
    "    y = np.int32(0)\n",
    "    count=0\n",
    "    \n",
    "    # Using Dijkstra's logic for all the rows and columns\n",
    "    while not end:\n",
    "      # move to x+1,y\n",
    "      if x < num_cols - 1:\n",
    "        if acm_dist[x+1,y] > grid[x+1, y]+acm_dist[x, y] and not visited[x+1, y]:\n",
    "          acm_dist[x+1,y] = grid[x+1 ,y]+acm_dist[x, y]\n",
    "          bktrack_dist[x+1,y] = np.ravel_multi_index([x, y], (num_cols, num_rows))\n",
    "      # move to x-1,y\n",
    "      if x > 0:\n",
    "        if acm_dist[x-1 ,y] > grid[x-1 ,y] + acm_dist[x, y] and not visited[x-1 ,y]:\n",
    "          acm_dist[x-1 ,y] = grid[x-1 ,y] + acm_dist[x ,y]\n",
    "          bktrack_dist[x-1 ,y] = np.ravel_multi_index([x ,y], (num_cols ,num_rows))\n",
    "      # move to x,y+1\n",
    "      if y < num_rows-1:\n",
    "        if acm_dist[x ,y+1] > grid[x ,y+1] + acm_dist[x ,y] and not visited[x ,y+1]:\n",
    "          acm_dist[x, y+1] = grid[x, y+1] + acm_dist[x ,y]\n",
    "          bktrack_dist[x, y+1] = np.ravel_multi_index([x ,y], (num_cols ,num_rows))\n",
    "      # move to x,y-1\n",
    "      if y > 0:\n",
    "        if acm_dist[x ,y-1] > grid[x ,y-1] + acm_dist[x ,y] and not visited[x ,y-1]:\n",
    "          acm_dist[x ,y-1] = grid[x ,y-1] + acm_dist[x ,y]\n",
    "          bktrack_dist[x, y-1] = np.ravel_multi_index([x, y], (num_cols, num_rows))\n",
    "    \n",
    "      visited[x ,y] = True\n",
    "      acm_dist_temp = acm_dist\n",
    "      acm_dist_temp[np.where(visited)] = np.inf\n",
    "      \n",
    "      # now we find the shortest path so far\n",
    "      min_path = np.unravel_index(np.argmin(acm_dist_temp), np.shape(acm_dist_temp))\n",
    "      x = min_path[0]\n",
    "      y = min_path[1]\n",
    "      if x == num_cols-1 and y == num_rows-1:\n",
    "        end = True\n",
    "      count += 1\n",
    "    \n",
    "    #Start backtracking to plot the path  \n",
    "    retreat = grid.astype(float)\n",
    "    x = num_cols-1\n",
    "    y = num_rows-1\n",
    "    path=[]\n",
    "    retreat[np.int32(x),np.int32(y)] = np.nan\n",
    "    \n",
    "    while x > 0.0 or y > 0.0:\n",
    "      path.append([np.int32(x) ,np.int32(y)])\n",
    "      temp = np.unravel_index(np.int32(bktrack_dist[np.int32(x) ,np.int32(y)]), (num_cols ,num_rows))\n",
    "      x = temp[0]\n",
    "      y = temp[1]\n",
    "      retreat[np.int32(x), np.int32(y)] = np.nan\n",
    "    path.append([np.int32(x), np.int32(y)])\n",
    "    \n",
    "    #Output and visualization of the path\n",
    "    current_cmap = plt.cm.Blues\n",
    "    # Masking the shortest path with nan\n",
    "    current_cmap.set_bad(color = 'red')\n",
    "    fig, ax = plt.subplots(figsize=(8,8))\n",
    "    ax.matshow(retreat, cmap=plt.cm.Blues, vmin=0, vmax=20)\n",
    "    for i in range(num_rows):\n",
    "        for j in range(num_cols):\n",
    "          c = grid[j, i]\n",
    "          ax.text(i, j, str(c), va='center', ha='center')\n",
    "    \n",
    "    print('Backtrack masked with np.nan: {}'.format(retreat))\n",
    "    print('Path: {} '.format(path))\n",
    "    print('Shortest minutes possible with Dijkstra: {:.0f} minutes'.format(acm_dist[num_cols-1, num_rows-1]))\n",
    "\n",
    "improved_search(grid)"
   ]
  },
  {
   "cell_type": "code",
   "execution_count": null,
   "id": "e6bd1ab8",
   "metadata": {},
   "outputs": [],
   "source": []
  }
 ],
 "metadata": {
  "kernelspec": {
   "display_name": "Python 3 (ipykernel)",
   "language": "python",
   "name": "python3"
  },
  "language_info": {
   "codemirror_mode": {
    "name": "ipython",
    "version": 3
   },
   "file_extension": ".py",
   "mimetype": "text/x-python",
   "name": "python",
   "nbconvert_exporter": "python",
   "pygments_lexer": "ipython3",
   "version": "3.9.7"
  }
 },
 "nbformat": 4,
 "nbformat_minor": 5
}
