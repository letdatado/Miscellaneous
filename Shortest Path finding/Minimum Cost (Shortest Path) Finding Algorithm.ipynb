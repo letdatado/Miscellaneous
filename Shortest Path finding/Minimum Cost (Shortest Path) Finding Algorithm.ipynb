{
 "cells": [
  {
   "cell_type": "code",
   "execution_count": 1,
   "id": "ab0f956e",
   "metadata": {},
   "outputs": [],
   "source": [
    "import numpy as np\n",
    "import matplotlib.pyplot as plt \n",
    "%matplotlib inline"
   ]
  },
  {
   "cell_type": "code",
   "execution_count": 2,
   "id": "9e2538e5",
   "metadata": {},
   "outputs": [
    {
     "name": "stdout",
     "output_type": "stream",
     "text": [
      "[[1 1 2 1 1 1 2]\n",
      " [1 2 1 2 1 1 2]\n",
      " [1 1 2 1 2 2 1]\n",
      " [2 2 2 2 1 1 2]\n",
      " [1 1 1 1 2 1 1]\n",
      " [1 1 1 1 1 1 2]]\n",
      "Shortest minutes possible :  14\n"
     ]
    }
   ],
   "source": [
    "\n",
    "grid = np.random.randint(1, 3, size=(6, 7))\n",
    "\n",
    "def reachquick(grid, m, n):\n",
    "    '''\n",
    "    grid : a 2d numpy array or a list of the lists\n",
    "    m : target column\n",
    "    n: target row\n",
    "    '''\n",
    "    # Assiging 0 to all og the cells in the given grid\n",
    "    reachquick = [[0 for x in range(n+1)] for y in range(m+1)]    \n",
    "    \n",
    "    # The first cell, the time spent on the first cell is the time stated! \n",
    "    # So we assign the minutes at the first cell to the starting position \n",
    "    # of the grid\n",
    "    reachquick[0][0] = grid[0][0]\n",
    "    \n",
    "    # Lets calculate the total time to reach the bottom of the first column, \n",
    "    # cummalatively.\n",
    "    for i in range (1, m+1):\n",
    "        upper_cell = reachquick[i - 1][0]\n",
    "        reachquick[i][0] = upper_cell + grid[i][0]   \n",
    "    \n",
    "    # Same as above for the first row\n",
    "    for j in range (1, n+1):\n",
    "        left_cell = reachquick[0][j - 1]\n",
    "        reachquick[0][j] = left_cell + grid[0][j]\n",
    "        \n",
    "    # Running another loop for all the remaining cells.\n",
    "    # As this being done for the cells other than the first row and \n",
    "    # the first column, each cell in this loops pairs up with either\n",
    "    # the cell on the top, or the cell on the left, and chosing the \n",
    "    # path with lowest sum of minutes\n",
    "    for i in range (1, m+1):\n",
    "        for j in range (1, n+1):\n",
    "            left_cell =  reachquick[i - 1][j]\n",
    "            upper_cell = reachquick[i][j - 1]\n",
    "            reachquick[i][j] = grid[i][j] + min(left_cell,upper_cell)\n",
    "    print(grid)\n",
    "    \n",
    "    quickest_path =  reachquick[m][n]\n",
    "    return quickest_path\n",
    "\n",
    "\n",
    "\n",
    "shortest_time = reachquick(grid, 5,6)\n",
    "print('Shortest minutes possible : ',shortest_time)\n",
    "\n",
    "\n",
    "\n"
   ]
  },
  {
   "cell_type": "code",
   "execution_count": null,
   "id": "30ca4949",
   "metadata": {},
   "outputs": [],
   "source": []
  }
 ],
 "metadata": {
  "kernelspec": {
   "display_name": "Python 3 (ipykernel)",
   "language": "python",
   "name": "python3"
  },
  "language_info": {
   "codemirror_mode": {
    "name": "ipython",
    "version": 3
   },
   "file_extension": ".py",
   "mimetype": "text/x-python",
   "name": "python",
   "nbconvert_exporter": "python",
   "pygments_lexer": "ipython3",
   "version": "3.9.7"
  }
 },
 "nbformat": 4,
 "nbformat_minor": 5
}
