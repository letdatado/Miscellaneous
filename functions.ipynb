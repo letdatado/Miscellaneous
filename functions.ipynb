{
 "cells": [
  {
   "cell_type": "markdown",
   "metadata": {},
   "source": [
    "A question that often showed up in interview questions I encountered is to draw a triangle pattern with some text. Here is the code to develop such Triangle. "
   ]
  },
  {
   "cell_type": "code",
   "execution_count": 4,
   "metadata": {},
   "outputs": [],
   "source": [
    "def pattern_triangle(rows, string='*'):\n",
    "    '''\n",
    "    This function helps you draw a \n",
    "    beautful pattern of an equilateral \n",
    "    Triangle with a given string\n",
    "    \n",
    "    Args: \n",
    "        rows: int, Height of a triangle\n",
    "        string: str, Default = '*', A \n",
    "                string value to \n",
    "                draw the triange with. \n",
    "                Please enter ONE char. \n",
    "    Returns:\n",
    "        A nicely drawn pattern of triangle\n",
    "    '''\n",
    "    lines = (rows * 2)+1\n",
    "    for i in range(rows):\n",
    "        num_stars = lines - 2*(rows-i)\n",
    "        print((rows-i)*(' '), string*num_stars ,(rows-i)*(' '))\n",
    "    "
   ]
  },
  {
   "cell_type": "code",
   "execution_count": 8,
   "metadata": {},
   "outputs": [
    {
     "name": "stdout",
     "output_type": "stream",
     "text": [
      "           *           \n",
      "          ***          \n",
      "         *****         \n",
      "        *******        \n",
      "       *********       \n",
      "      ***********      \n",
      "     *************     \n",
      "    ***************    \n",
      "   *****************   \n",
      "  *******************  \n"
     ]
    }
   ],
   "source": [
    "pattern_triangle(10)"
   ]
  },
  {
   "cell_type": "code",
   "execution_count": 9,
   "metadata": {},
   "outputs": [
    {
     "name": "stdout",
     "output_type": "stream",
     "text": [
      "       T       \n",
      "      TTT      \n",
      "     TTTTT     \n",
      "    TTTTTTT    \n",
      "   TTTTTTTTT   \n",
      "  TTTTTTTTTTT  \n"
     ]
    }
   ],
   "source": [
    "pattern_triangle(6, 'T')"
   ]
  },
  {
   "cell_type": "code",
   "execution_count": null,
   "metadata": {},
   "outputs": [],
   "source": []
  }
 ],
 "metadata": {
  "kernelspec": {
   "display_name": "Python 3",
   "language": "python",
   "name": "python3"
  },
  "language_info": {
   "codemirror_mode": {
    "name": "ipython",
    "version": 3
   },
   "file_extension": ".py",
   "mimetype": "text/x-python",
   "name": "python",
   "nbconvert_exporter": "python",
   "pygments_lexer": "ipython3",
   "version": "3.8.3"
  }
 },
 "nbformat": 4,
 "nbformat_minor": 4
}
